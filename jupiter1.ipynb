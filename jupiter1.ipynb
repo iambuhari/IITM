{
 "cells": [
  {
   "cell_type": "code",
   "execution_count": 15,
   "metadata": {},
   "outputs": [
    {
     "data": {
      "text/plain": [
       "0.3230105513928931"
      ]
     },
     "execution_count": 15,
     "metadata": {},
     "output_type": "execute_result"
    }
   ],
   "source": [
    "import pandas as pd\n",
    "import csv\n",
    "# Load the repositories CSV file\n",
    "repos_df = pd.read_csv('repositories.csv')\n",
    "\n",
    "# Check the structure of the data to confirm columns for analysis\n",
    "repos_df.head()\n",
    "repos_df\n",
    "# Calculate the correlation between 'has_projects' and 'has_wiki'\n",
    "correlation = repos_df['has_projects'].astype(int).corr(repos_df['has_wiki'].astype(int))\n",
    "correlation\n",
    "\n"
   ]
  },
  {
   "cell_type": "code",
   "execution_count": 8,
   "metadata": {},
   "outputs": [
    {
     "name": "stdout",
     "output_type": "stream",
     "text": [
      "hireable_avg_following = 392.175\n",
      "non_hireable_avg_following = 97.63133640552995\n"
     ]
    },
    {
     "data": {
      "text/plain": [
       "294.54366359447005"
      ]
     },
     "execution_count": 8,
     "metadata": {},
     "output_type": "execute_result"
    }
   ],
   "source": [
    "users_df = pd.read_csv('users.csv')\n",
    "# Separate users based on their hireable status and calculate the average following\n",
    "hireable_avg_following = users_df[users_df['hireable'] == True]['following'].mean()\n",
    "non_hireable_avg_following = users_df[users_df['hireable'] != True]['following'].mean()\n",
    "print(\"hireable_avg_following =\",hireable_avg_following)\n",
    "print(\"non_hireable_avg_following =\",non_hireable_avg_following)\n",
    "# Calculate the difference\n",
    "difference_in_following = hireable_avg_following - non_hireable_avg_following\n",
    "difference_in_following\n"
   ]
  },
  {
   "cell_type": "code",
   "execution_count": 37,
   "metadata": {},
   "outputs": [
    {
     "name": "stdout",
     "output_type": "stream",
     "text": [
      "<class 'pandas.core.frame.DataFrame'>\n",
      "RangeIndex: 337 entries, 0 to 336\n",
      "Data columns (total 11 columns):\n",
      " #   Column        Non-Null Count  Dtype \n",
      "---  ------        --------------  ----- \n",
      " 0   login         337 non-null    object\n",
      " 1   name          330 non-null    object\n",
      " 2   company       208 non-null    object\n",
      " 3   location      337 non-null    object\n",
      " 4   email         167 non-null    object\n",
      " 5   hireable      120 non-null    object\n",
      " 6   bio           245 non-null    object\n",
      " 7   public_repos  337 non-null    int64 \n",
      " 8   followers     337 non-null    int64 \n",
      " 9   following     337 non-null    int64 \n",
      " 10  created_at    337 non-null    object\n",
      "dtypes: int64(3), object(8)\n",
      "memory usage: 29.1+ KB\n"
     ]
    },
    {
     "name": "stderr",
     "output_type": "stream",
     "text": [
      "C:\\Users\\HMEAS\\AppData\\Local\\Temp\\ipykernel_8724\\825222256.py:17: SettingWithCopyWarning: \n",
      "A value is trying to be set on a copy of a slice from a DataFrame.\n",
      "Try using .loc[row_indexer,col_indexer] = value instead\n",
      "\n",
      "See the caveats in the documentation: https://pandas.pydata.org/pandas-docs/stable/user_guide/indexing.html#returning-a-view-versus-a-copy\n",
      "  data_with_bio['bio_word_count'] = data_with_bio['bio'].apply(lambda x: len(x.split()))\n"
     ]
    },
    {
     "data": {
      "text/plain": [
       "13.692001448114608"
      ]
     },
     "execution_count": 37,
     "metadata": {},
     "output_type": "execute_result"
    }
   ],
   "source": [
    "import pandas as pd\n",
    "import csv\n",
    " \n",
    "# Load the provided CSV file to examine its contents\n",
    "file_path = 'users.csv'\n",
    "data = pd.read_csv(file_path)\n",
    "\n",
    "# Display the first few rows and column information to understand the dataset\n",
    "data.head(), data.info()\n",
    "from sklearn.linear_model import LinearRegression\n",
    "import numpy as np\n",
    "\n",
    "# Filter out entries without a bio\n",
    "data_with_bio = data.dropna(subset=['bio'])\n",
    "\n",
    "# Calculate word count in each bio (splitting by whitespace)\n",
    "data_with_bio['bio_word_count'] = data_with_bio['bio'].apply(lambda x: len(x.split()))\n",
    "data_with_bio.to_csv('users_with_bio.csv', index=False)\n",
    "# Prepare the variables for regression\n",
    "X = data_with_bio['bio_word_count'].values.reshape(-1, 1)\n",
    "y = data_with_bio['followers'].values\n",
    "\n",
    "# Perform linear regression\n",
    "reg_model = LinearRegression().fit(X, y)\n",
    "slope = reg_model.coef_[0]  # Get the regression slope\n",
    "slope\n"
   ]
  },
  {
   "cell_type": "code",
   "execution_count": 12,
   "metadata": {},
   "outputs": [
    {
     "data": {
      "text/plain": [
       "'Martínez, Ortiz'"
      ]
     },
     "execution_count": 12,
     "metadata": {},
     "output_type": "execute_result"
    }
   ],
   "source": [
    "from collections import Counter\n",
    "\n",
    "# Drop rows with missing names and extract the last word (surname) from each name\n",
    "surnames = users_df['name'].dropna().apply(lambda x: x.strip().split()[-1])\n",
    "\n",
    "# Count occurrences of each surname\n",
    "surname_counts = Counter(surnames)\n",
    "\n",
    "# Find the maximum count(s) and get the most common surname(s)\n",
    "max_count = max(surname_counts.values())\n",
    "most_common_surnames = sorted([surname for surname, count in surname_counts.items() if count == max_count])\n",
    "\n",
    "# Join with commas for the final result\n",
    "most_common_surnames_str = \", \".join(most_common_surnames)\n",
    "most_common_surnames_str\n"
   ]
  },
  {
   "cell_type": "code",
   "execution_count": 14,
   "metadata": {},
   "outputs": [
    {
     "name": "stdout",
     "output_type": "stream",
     "text": [
      "Difference in fraction of users with email (hireable - non-hireable): 0.098\n"
     ]
    }
   ],
   "source": [
    "import pandas as pd\n",
    "\n",
    "# Load the CSV file\n",
    "users_df = pd.read_csv('users.csv')\n",
    "\n",
    "# Filter users by hireable status and check if they have an email\n",
    "hireable_users = users_df[users_df['hireable'] == True]\n",
    "non_hireable_users = users_df[users_df['hireable'] != True]\n",
    "\n",
    "# Calculate the fractions\n",
    "hireable_with_email_fraction = hireable_users['email'].notna().mean()\n",
    "non_hireable_with_email_fraction = non_hireable_users['email'].notna().mean()\n",
    "\n",
    "# Compute the difference\n",
    "difference = hireable_with_email_fraction - non_hireable_with_email_fraction\n",
    "print(f\"Difference in fraction of users with email (hireable - non-hireable): {difference:.3f}\")\n"
   ]
  },
  {
   "cell_type": "code",
   "execution_count": 16,
   "metadata": {},
   "outputs": [
    {
     "data": {
      "text/plain": [
       "294.54366359447005"
      ]
     },
     "execution_count": 16,
     "metadata": {},
     "output_type": "execute_result"
    }
   ],
   "source": [
    "# Load the re-uploaded users CSV file\n",
    "users_df = pd.read_csv('users.csv')\n",
    "\n",
    "# Separate users based on their hireable status and calculate the average following\n",
    "hireable_avg_following = users_df[users_df['hireable'] == True]['following'].mean()\n",
    "non_hireable_avg_following = users_df[users_df['hireable'] != True]['following'].mean()\n",
    "\n",
    "# Calculate the difference\n",
    "difference_in_following = hireable_avg_following - non_hireable_avg_following\n",
    "difference_in_following\n"
   ]
  },
  {
   "cell_type": "code",
   "execution_count": 40,
   "metadata": {},
   "outputs": [
    {
     "name": "stdout",
     "output_type": "stream",
     "text": [
      "Regression slope of followers on bio word count: 13.692\n"
     ]
    }
   ],
   "source": [
    "import pandas as pd\n",
    "from sklearn.linear_model import LinearRegression\n",
    "\n",
    "# Load the CSV file\n",
    "users_df = pd.read_csv('users.csv')\n",
    "\n",
    "# Filter out users without a bio and drop NaN values\n",
    "users_with_bio = users_df[users_df['bio'].notna() & (users_df['bio'].str.strip() != '')].copy()\n",
    "\n",
    "# Calculate the word count of each bio\n",
    "users_with_bio['bio_word_count'] = users_with_bio['bio'].apply(lambda x: len(str(x).split()) if pd.notna(x) else 0)\n",
    "\n",
    "# Prepare data for regression\n",
    "X = users_with_bio[['bio_word_count']]\n",
    "y = users_with_bio['followers']\n",
    "\n",
    "# Fit the linear regression model\n",
    "model = LinearRegression()\n",
    "model.fit(X, y)\n",
    "\n",
    "# Get the slope (coefficient) of the regression line\n",
    "slope = model.coef_[0]\n",
    "print(f\"Regression slope of followers on bio word count: {slope:.3f}\")\n"
   ]
  }
 ],
 "metadata": {
  "kernelspec": {
   "display_name": "Python 3",
   "language": "python",
   "name": "python3"
  },
  "language_info": {
   "codemirror_mode": {
    "name": "ipython",
    "version": 3
   },
   "file_extension": ".py",
   "mimetype": "text/x-python",
   "name": "python",
   "nbconvert_exporter": "python",
   "pygments_lexer": "ipython3",
   "version": "3.11.9"
  }
 },
 "nbformat": 4,
 "nbformat_minor": 2
}
